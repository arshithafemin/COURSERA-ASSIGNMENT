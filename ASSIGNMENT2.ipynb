{
 "cells": [
  {
   "cell_type": "markdown",
   "metadata": {
    "collapsed": true
   },
   "source": [
    "# Capstone Project \n",
    "\n",
    "##  *The Battle of Neighborhoods*\n",
    "\n",
    "\n",
    "###  Submitted by:Arshitha Femin"
   ]
  },
  {
   "cell_type": "markdown",
   "metadata": {},
   "source": [
    "# INTRODUCTION"
   ]
  },
  {
   "cell_type": "markdown",
   "metadata": {},
   "source": [
    "The project named *The battle of neighbourhood* deals with finding a location for the restaurant,ie a suitable location.We have to build a restaurant in Stockholm,Sweden.\n",
    "Inorder to build a restaurant we have to analyse the location and restuarant and we have to locate the areas which have less resturants,ie least crowded area.Inorder to get profit in an area,We have to locate areas with least or no restuarants nearby.\n"
   ]
  },
  {
   "cell_type": "markdown",
   "metadata": {},
   "source": [
    "We will collect maps and data and will use our data science to find the appropiate location.\n"
   ]
  },
  {
   "cell_type": "markdown",
   "metadata": {},
   "source": [
    "# DATA SECTION"
   ]
  },
  {
   "cell_type": "markdown",
   "metadata": {},
   "source": [
    "### DATA SOURCES\n",
    "Data title: - Open Data published by Government of Sweden under the section HM Land Registry: Location Data Type of data: Dataset in form of CSV file Duration: August 2018 data"
   ]
  },
  {
   "cell_type": "markdown",
   "metadata": {},
   "source": [
    "### Description of the dataset: \n",
    "Location Data includes information on all property sales in Sweden and Stockholm that are sold for full market value and are lodged with us for registration.\n",
    "The dataset includes the transactions received at HM Land Registry in the period from the first to the last day of August 2018.\n",
    "\n",
    "• Data title: Google Maps Geocoding API\n",
    "\n",
    "Type of data: JSON\n",
    "\n",
    "Duration: N/A\n",
    "\n",
    "Description of the data: Location coordinates obtained by Gmaps API calls. Location Information obtained is used to obtain the location coordinates from Google Maps.\n",
    "A separate Python script has been developed to extract the unique street names, district names from the Dataset and embed those in the GMaps API calls to obtain the required information.\n",
    "\n",
    "Google Cloud Platform/ Google Maps• Data title: \n",
    "Restaurant location data\n",
    "\n",
    "Description of the data: Location coordinates obtained by Foursquare API calls. To determine the proximity of various amenities as per the client’s requirement, restaurant location data is used.\n",
    "\n",
    "\n"
   ]
  },
  {
   "cell_type": "code",
   "execution_count": null,
   "metadata": {},
   "outputs": [],
   "source": []
  },
  {
   "cell_type": "code",
   "execution_count": null,
   "metadata": {},
   "outputs": [],
   "source": []
  }
 ],
 "metadata": {
  "kernelspec": {
   "display_name": "Python 3",
   "language": "python",
   "name": "python3"
  },
  "language_info": {
   "codemirror_mode": {
    "name": "ipython",
    "version": 3
   },
   "file_extension": ".py",
   "mimetype": "text/x-python",
   "name": "python",
   "nbconvert_exporter": "python",
   "pygments_lexer": "ipython3",
   "version": "3.6.7"
  }
 },
 "nbformat": 4,
 "nbformat_minor": 1
}
